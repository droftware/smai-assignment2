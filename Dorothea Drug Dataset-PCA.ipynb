{
 "cells": [
  {
   "cell_type": "code",
   "execution_count": 2,
   "metadata": {
    "collapsed": true
   },
   "outputs": [],
   "source": [
    "# importing modules\n",
    "import numpy as np\n",
    "import numpy.linalg as LA\n",
    "import math\n",
    "from sklearn.naive_bayes import GaussianNB\n"
   ]
  },
  {
   "cell_type": "code",
   "execution_count": 3,
   "metadata": {
    "collapsed": false
   },
   "outputs": [
    {
     "name": "stdout",
     "output_type": "stream",
     "text": [
      "Done\n"
     ]
    }
   ],
   "source": [
    "# read the data file\n",
    "f = open(\"/home/tandon/IIIT-H/3rd/SMAI/dorothea/dorothea_train.data\")\n",
    "X = np.zeros((800, 100000))\n",
    "row = 0\n",
    "for line in f:\n",
    "    for token in line.split():\n",
    "        idx = int(token)\n",
    "        X[row, idx-1] = 1\n",
    "#         print(idx)\n",
    "    row += 1\n",
    "print('Done')\n",
    "f.close()\n"
   ]
  },
  {
   "cell_type": "code",
   "execution_count": 4,
   "metadata": {
    "collapsed": false
   },
   "outputs": [
    {
     "name": "stdout",
     "output_type": "stream",
     "text": [
      "(800,)\n"
     ]
    }
   ],
   "source": [
    "# read the class labels associated with the training data\n",
    "f = open(\"/home/tandon/IIIT-H/3rd/SMAI/dorothea/dorothea_train.labels\")\n",
    "labels = np.zeros(800)\n",
    "i = 0\n",
    "for line in f:\n",
    "    digit = float(line.strip())\n",
    "    labels[i] = digit\n",
    "    i += 1\n",
    "print(labels.shape)\n",
    "f.close()"
   ]
  },
  {
   "cell_type": "code",
   "execution_count": 73,
   "metadata": {
    "collapsed": false
   },
   "outputs": [
    {
     "name": "stdout",
     "output_type": "stream",
     "text": [
      "1.0\n"
     ]
    }
   ],
   "source": [
    "print(X[1,306])"
   ]
  },
  {
   "cell_type": "code",
   "execution_count": 74,
   "metadata": {
    "collapsed": false
   },
   "outputs": [
    {
     "name": "stdout",
     "output_type": "stream",
     "text": [
      "[ 0.0125   0.       0.00125 ...,  0.0125   0.00625  0.035  ]\n"
     ]
    },
    {
     "data": {
      "text/plain": [
       "(100000,)"
      ]
     },
     "execution_count": 74,
     "metadata": {},
     "output_type": "execute_result"
    }
   ],
   "source": [
    "# calculate mean vector\n",
    "m = X.mean(0)\n",
    "print(m)\n",
    "m.shape"
   ]
  },
  {
   "cell_type": "code",
   "execution_count": 75,
   "metadata": {
    "collapsed": true
   },
   "outputs": [],
   "source": [
    "At = X - m"
   ]
  },
  {
   "cell_type": "code",
   "execution_count": 76,
   "metadata": {
    "collapsed": false
   },
   "outputs": [
    {
     "data": {
      "text/plain": [
       "(100000, 800)"
      ]
     },
     "execution_count": 76,
     "metadata": {},
     "output_type": "execute_result"
    }
   ],
   "source": [
    "A = At.T\n",
    "A.shape\n",
    " "
   ]
  },
  {
   "cell_type": "code",
   "execution_count": 77,
   "metadata": {
    "collapsed": true
   },
   "outputs": [],
   "source": [
    "K = At.dot(A)"
   ]
  },
  {
   "cell_type": "code",
   "execution_count": 78,
   "metadata": {
    "collapsed": false
   },
   "outputs": [
    {
     "data": {
      "text/plain": [
       "(800, 800)"
      ]
     },
     "execution_count": 78,
     "metadata": {},
     "output_type": "execute_result"
    }
   ],
   "source": [
    "eigen_values, eigen_vectors = LA.eig(K)\n",
    "K.shape"
   ]
  },
  {
   "cell_type": "code",
   "execution_count": 1,
   "metadata": {
    "collapsed": false
   },
   "outputs": [
    {
     "ename": "NameError",
     "evalue": "name 'eigen_values' is not defined",
     "output_type": "error",
     "traceback": [
      "\u001b[0;31m---------------------------------------------------------------------------\u001b[0m",
      "\u001b[0;31mNameError\u001b[0m                                 Traceback (most recent call last)",
      "\u001b[0;32m<ipython-input-1-259ef2619fbd>\u001b[0m in \u001b[0;36m<module>\u001b[0;34m()\u001b[0m\n\u001b[0;32m----> 1\u001b[0;31m \u001b[0mprint\u001b[0m\u001b[0;34m(\u001b[0m\u001b[0;34m'Eigen Values shape'\u001b[0m\u001b[0;34m,\u001b[0m \u001b[0meigen_values\u001b[0m\u001b[0;34m.\u001b[0m\u001b[0mshape\u001b[0m\u001b[0;34m)\u001b[0m\u001b[0;34m\u001b[0m\u001b[0m\n\u001b[0m\u001b[1;32m      2\u001b[0m \u001b[0mprint\u001b[0m\u001b[0;34m(\u001b[0m\u001b[0;34m'Eigen vectors shape'\u001b[0m\u001b[0;34m,\u001b[0m \u001b[0meigen_vectors\u001b[0m\u001b[0;34m.\u001b[0m\u001b[0mshape\u001b[0m\u001b[0;34m)\u001b[0m\u001b[0;34m\u001b[0m\u001b[0m\n",
      "\u001b[0;31mNameError\u001b[0m: name 'eigen_values' is not defined"
     ]
    }
   ],
   "source": [
    "print('Eigen Values shape', eigen_values.shape)\n",
    "print('Eigen vectors shape', eigen_vectors.shape)"
   ]
  },
  {
   "cell_type": "code",
   "execution_count": 80,
   "metadata": {
    "collapsed": false
   },
   "outputs": [],
   "source": [
    "# Contains indices for largest to smallest eigen values\n",
    "idx = eigen_values.argsort()[::-1]\n",
    "# idx.dtype\n",
    "# eigen_values[idx]"
   ]
  },
  {
   "cell_type": "code",
   "execution_count": 81,
   "metadata": {
    "collapsed": false
   },
   "outputs": [
    {
     "data": {
      "text/plain": [
       "(800, 100)"
      ]
     },
     "execution_count": 81,
     "metadata": {},
     "output_type": "execute_result"
    }
   ],
   "source": [
    "# for K = 500\n",
    "k = 500\n",
    "ek = eigen_vectors[:, idx[0:k]]\n",
    "\n",
    "for i in range(k):\n",
    "    val = 1 / math.pow(eigen_values[idx[i]], 0.5)\n",
    "    ek[:, i] = ek[:, i] * val\n",
    "    \n",
    "ek.shape \n",
    "# e500 = eigen_vectors[:, 300:]\n",
    "# e500.shape"
   ]
  },
  {
   "cell_type": "code",
   "execution_count": 82,
   "metadata": {
    "collapsed": false
   },
   "outputs": [
    {
     "data": {
      "text/plain": [
       "(100000, 100)"
      ]
     },
     "execution_count": 82,
     "metadata": {},
     "output_type": "execute_result"
    }
   ],
   "source": [
    "# calculating final eigen vector for k = 100\n",
    "final_eigen = A.dot(ek)\n",
    "final_eigen.shape\n",
    "\n",
    "# final500 = A.dot(e500)\n",
    "# final500.shape"
   ]
  },
  {
   "cell_type": "code",
   "execution_count": 83,
   "metadata": {
    "collapsed": false
   },
   "outputs": [
    {
     "data": {
      "text/plain": [
       "(100, 800)"
      ]
     },
     "execution_count": 83,
     "metadata": {},
     "output_type": "execute_result"
    }
   ],
   "source": [
    "# project to lower dimensional space using the above obtained eigen vectors - PCA\n",
    "\n",
    "A_projected = final_eigen.T.dot(A)\n",
    "A_projected.shape\n"
   ]
  },
  {
   "cell_type": "code",
   "execution_count": 84,
   "metadata": {
    "collapsed": false
   },
   "outputs": [
    {
     "name": "stdout",
     "output_type": "stream",
     "text": [
      "Number of positive samples 78\n",
      "Number of negative samples 722\n",
      "Shape of positive class (100, 78)\n",
      "Shape of negative class (100, 722)\n",
      "Shape of positive covariance matrix (100,)\n",
      "Shape of negative covariance matrix (100,)\n",
      "Shape of positive mean (100,)\n",
      "Shape of negative mean (100,)\n"
     ]
    }
   ],
   "source": [
    "# segregate data into +1 and -1 classes\n",
    "bool_idx = (labels > 0)\n",
    "positive_class = A_projected[:, bool_idx]\n",
    "num_positive = positive_class.shape[1]\n",
    "print('Number of positive samples', num_positive)\n",
    "\n",
    "bool_idx = (labels < 0)\n",
    "negative_class = A_projected[:, bool_idx]\n",
    "num_negative = negative_class.shape[1]\n",
    "print('Number of negative samples', num_negative)\n",
    "\n",
    "print('Shape of positive class', positive_class.shape)\n",
    "print('Shape of negative class', negative_class.shape)\n",
    "\n",
    "positive_cov = np.ones(k)\n",
    "negative_cov = np.ones(k)\n",
    "\n",
    "for i in range(k):\n",
    "    positive_cov[i] = np.var(positive_class[i,:])\n",
    "    negative_cov[i] = np.var(negative_class[i,:])\n",
    "\n",
    "print('Shape of positive covariance matrix', positive_cov.shape)\n",
    "print('Shape of negative covariance matrix', negative_cov.shape)\n",
    "\n",
    "positive_mean = positive_class.T.mean(0)\n",
    "negative_mean = negative_class.T.mean(0)\n",
    "\n",
    "print('Shape of positive mean', positive_mean.shape)\n",
    "print('Shape of negative mean', negative_mean.shape)"
   ]
  },
  {
   "cell_type": "code",
   "execution_count": 85,
   "metadata": {
    "collapsed": false
   },
   "outputs": [],
   "source": [
    "'''\n",
    "Gives the log of the multivariate gaussian, to be used in discriminant function\n",
    "'''\n",
    "def log_multivariate(xi, mean, variance):\n",
    "    b1 = -1.0*(xi - mean)*(xi - mean)/(2*variance)\n",
    "    a1 = -0.5*np.log(2 * np.pi*variance) \n",
    "    final = a1 + b1\n",
    "    return final"
   ]
  },
  {
   "cell_type": "code",
   "execution_count": 86,
   "metadata": {
    "collapsed": false
   },
   "outputs": [],
   "source": [
    "# x = positive_class.T[0,:]\n",
    "# f = log_multivariate(x, positive_mean, positive_cov)\n",
    "# print(f)\n",
    "\n",
    "# calculating prior probabilty values\n",
    "prior_positive = num_positive/800\n",
    "prior_negative = num_negative/800\n",
    "log_prior_positive = np.log(prior_positive)\n",
    "log_prior_negative = np.log(prior_negative)"
   ]
  },
  {
   "cell_type": "code",
   "execution_count": 87,
   "metadata": {
    "collapsed": true
   },
   "outputs": [],
   "source": [
    "def positive_discriminant(x):\n",
    "    final = log_prior_positive\n",
    "    for i in range(k):\n",
    "        final += log_multivariate(x[i], positive_mean[i], positive_cov[i])\n",
    "    return final\n",
    "\n",
    "def negative_discriminant(x):\n",
    "    final = log_prior_negative\n",
    "    for i in range(k):\n",
    "        final += log_multivariate(x[i], negative_mean[i], negative_cov[i])\n",
    "    return final"
   ]
  },
  {
   "cell_type": "code",
   "execution_count": 88,
   "metadata": {
    "collapsed": false
   },
   "outputs": [
    {
     "name": "stdout",
     "output_type": "stream",
     "text": [
      "Done\n"
     ]
    },
    {
     "data": {
      "text/plain": [
       "(100000, 350)"
      ]
     },
     "execution_count": 88,
     "metadata": {},
     "output_type": "execute_result"
    }
   ],
   "source": [
    "# loading validating data\n",
    "f = open(\"/home/tandon/IIIT-H/3rd/SMAI/dorothea/dorothea_valid.data\")\n",
    "V = np.zeros((350, 100000))\n",
    "row = 0\n",
    "for line in f:\n",
    "    for token in line.split():\n",
    "        idx = int(token)\n",
    "        V[row, idx-1] = 1\n",
    "#         print(idx)\n",
    "    row += 1\n",
    "print('Done')\n",
    "f.close()\n",
    "V = V.T\n",
    "V.shape"
   ]
  },
  {
   "cell_type": "code",
   "execution_count": 89,
   "metadata": {
    "collapsed": false
   },
   "outputs": [
    {
     "name": "stdout",
     "output_type": "stream",
     "text": [
      "(350,)\n"
     ]
    }
   ],
   "source": [
    "# read the class labels associated with the training data\n",
    "f = open(\"/home/tandon/IIIT-H/3rd/SMAI/dorothea/dorothea_valid.labels\")\n",
    "v_labels = np.zeros(350)\n",
    "i = 0\n",
    "for line in f:\n",
    "    digit = float(line.strip())\n",
    "    v_labels[i] = digit\n",
    "    i += 1\n",
    "print(v_labels.shape)\n",
    "f.close()\n"
   ]
  },
  {
   "cell_type": "code",
   "execution_count": 90,
   "metadata": {
    "collapsed": false
   },
   "outputs": [
    {
     "name": "stdout",
     "output_type": "stream",
     "text": [
      "Shape of final_eigen (100000, 100)\n",
      "Shape of V (100000, 350)\n",
      "Shape of V_projected (100, 350)\n"
     ]
    }
   ],
   "source": [
    "# reduce dimension via PCA of the test data\n",
    "V_projected = final_eigen.T.dot(V)\n",
    "\n",
    "print('Shape of final_eigen', final_eigen.shape)\n",
    "print('Shape of V', V.shape)\n",
    "print('Shape of V_projected', V_projected.shape)"
   ]
  },
  {
   "cell_type": "code",
   "execution_count": null,
   "metadata": {
    "collapsed": false
   },
   "outputs": [
    {
     "name": "stdout",
     "output_type": "stream",
     "text": [
      "Correct 314\n",
      "Percentage Correct:  89.71428571428571\n"
     ]
    }
   ],
   "source": [
    "# validating \n",
    "correct = 0\n",
    "for i in range(350):\n",
    "    x = V_projected.T[i,:]\n",
    "    if positive_discriminant(x) >= negative_discriminant(x):\n",
    "        if v_labels[i] > 0.0:\n",
    "            correct += 1\n",
    "    else:\n",
    "        if v_labels[i] < 0.0:\n",
    "            correct += 1\n",
    "print('Correct', correct)\n",
    "print('Percentage Correct: ', (correct/350*100))\n",
    "\n",
    "\n",
    "    "
   ]
  },
  {
   "cell_type": "code",
   "execution_count": null,
   "metadata": {
    "collapsed": false
   },
   "outputs": [
    {
     "name": "stdout",
     "output_type": "stream",
     "text": [
      "0.897142857143\n"
     ]
    }
   ],
   "source": [
    "clf = GaussianNB()\n",
    "clf.fit(A_projected.T, labels)\n",
    "print(clf.score(V_projected.T, v_labels))\n"
   ]
  },
  {
   "cell_type": "markdown",
   "metadata": {},
   "source": [
    "### For k = 100\n",
    "Percentage Accuracy : 89.71428571428571\n",
    "\n",
    "### For k = 500\n",
    "Percentage Accuracy : 84.4569\n",
    "\n",
    "### For k = 1000\n",
    "Percentage Accuracy : 10.4569896"
   ]
  },
  {
   "cell_type": "markdown",
   "metadata": {},
   "source": [
    "### Observations\n",
    "\n",
    "As we see, for K = 100, the accuracy comes out to be maximum. There can be various reasons for this\n",
    "* Data getting overfitted\n",
    "* Improper features getting incorporated due to increase in K\n",
    "* The approximate number of directions at which data gets properly represented is 100\n"
   ]
  },
  {
   "cell_type": "code",
   "execution_count": null,
   "metadata": {
    "collapsed": true
   },
   "outputs": [],
   "source": []
  }
 ],
 "metadata": {
  "anaconda-cloud": {},
  "kernelspec": {
   "display_name": "Python [default]",
   "language": "python",
   "name": "python3"
  },
  "language_info": {
   "codemirror_mode": {
    "name": "ipython",
    "version": 3
   },
   "file_extension": ".py",
   "mimetype": "text/x-python",
   "name": "python",
   "nbconvert_exporter": "python",
   "pygments_lexer": "ipython3",
   "version": "3.5.2"
  }
 },
 "nbformat": 4,
 "nbformat_minor": 1
}
